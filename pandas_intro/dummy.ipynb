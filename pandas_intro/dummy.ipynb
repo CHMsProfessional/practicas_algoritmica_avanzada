{
 "cells": [
  {
   "cell_type": "code",
   "execution_count": 1,
   "id": "1b1f61a7-2406-4995-9f48-4d7f70bcc1d2",
   "metadata": {},
   "outputs": [],
   "source": [
    "primer_parcial = 72"
   ]
  },
  {
   "cell_type": "code",
   "execution_count": 2,
   "id": "93a5f85b-3b93-4b10-98b1-8b08be50c33d",
   "metadata": {},
   "outputs": [],
   "source": [
    "segundo_parcial = 52"
   ]
  },
  {
   "cell_type": "code",
   "execution_count": 3,
   "id": "bb46701d-0410-4894-93db-15f1b7d95642",
   "metadata": {},
   "outputs": [],
   "source": [
    "nota= primer_parcial + segundo_parcial"
   ]
  },
  {
   "cell_type": "code",
   "execution_count": 4,
   "id": "ed02d35d-d4e1-4f17-9b30-28f93fd208a7",
   "metadata": {},
   "outputs": [
    {
     "name": "stdout",
     "output_type": "stream",
     "text": [
      "124\n"
     ]
    }
   ],
   "source": [
    "print(nota)"
   ]
  },
  {
   "cell_type": "code",
   "execution_count": null,
   "id": "443c9654-0320-4da9-93d5-fb9d22a20c36",
   "metadata": {},
   "outputs": [],
   "source": []
  }
 ],
 "metadata": {
  "kernelspec": {
   "display_name": "Python 3 (ipykernel)",
   "language": "python",
   "name": "python3"
  },
  "language_info": {
   "codemirror_mode": {
    "name": "ipython",
    "version": 3
   },
   "file_extension": ".py",
   "mimetype": "text/x-python",
   "name": "python",
   "nbconvert_exporter": "python",
   "pygments_lexer": "ipython3",
   "version": "3.11.4"
  }
 },
 "nbformat": 4,
 "nbformat_minor": 5
}
